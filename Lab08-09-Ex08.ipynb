{
 "cells": [
  {
   "cell_type": "markdown",
   "metadata": {
    "dotnet_interactive": {
     "language": "csharp"
    },
    "polyglot_notebook": {
     "kernelName": "csharp"
    }
   },
   "source": [
    "# Lab 8 Exercise 8\n",
    "\n",
    "## Static Class"
   ]
  },
  {
   "cell_type": "markdown",
   "metadata": {},
   "source": [
    "1. สร้าง console application project\n",
    "\n",
    "```\n",
    "    dotnet new console --name Lab08_Ex08\n",
    "```"
   ]
  },
  {
   "cell_type": "markdown",
   "metadata": {},
   "source": [
    "2. เปลี่ยน code ให้เป็นดังต่อไปนี้\n",
    "\n",
    "> ```csharp\n",
    ">  1. int x = 2, y = 3;\n",
    ">  2. int add_result = Calculator.add(x, y);\n",
    ">  3. System.Console.WriteLine($\"{x} + {y} = {add_result}\");\n",
    ">  4. \n",
    ">  5. int i = 2, j = 3;\n",
    ">  6. int multiply_result = Calculator.multiply(i, j);\n",
    ">  7. System.Console.WriteLine($\"{i} x {j} = {multiply_result}\");\n",
    ">  8. \n",
    ">  9. public static class Calculator\n",
    "> 10. {\n",
    "> 11.     public static int add(int a, int b)\n",
    "> 12.     {\n",
    "> 13.         return a + b;\n",
    "> 14.     }\n",
    "> 15.     public static int multiply(int a, int b)\n",
    "> 16.     {\n",
    "> 17.         return a * b;\n",
    "> 18.     }\n",
    "> 19. }\n",
    "> ```\n",
    "\n"
   ]
  },
  {
   "cell_type": "markdown",
   "metadata": {},
   "source": [
    "3. Build project โดยการใช้คำสั่ง\n",
    "\n",
    "```\n",
    "    dotnet build  Lab08_Ex08\n",
    "```\n",
    "\n"
   ]
  },
  {
   "cell_type": "markdown",
   "metadata": {},
   "source": [
    "4. บันทึกผลที่ได้จากการรันคำสั่งในข้อ 3\n",
    "\n"
   ]
  },
  {
   "cell_type": "markdown",
   "metadata": {},
   "source": [
    "*คำตอบ* Lab08_Ex08 succeeded (0.3s) → Lab08_Ex08\\bin\\Debug\\net9.0\\Lab08_Ex08.dll\n",
    "\n",
    "Build succeeded in 0.8"
   ]
  },
  {
   "cell_type": "markdown",
   "metadata": {},
   "source": [
    "5. Run project โดยการใช้คำสั่ง\n",
    "\n",
    "```\n",
    "    dotnet run --project Lab08_Ex08\n",
    "```"
   ]
  },
  {
   "cell_type": "markdown",
   "metadata": {},
   "source": [
    "6. บันทึกผลที่ได้จากการรันคำสั่งในข้อ 5\n",
    "\n",
    "\n"
   ]
  },
  {
   "cell_type": "markdown",
   "metadata": {},
   "source": [
    "*คำตอบ* 2 + 3 = 5\n",
    "\n",
    "2 x 3 = 6"
   ]
  },
  {
   "cell_type": "markdown",
   "metadata": {},
   "source": [
    "7. อธิบายสิ่งที่พบในการทดลอง\n",
    "\n"
   ]
  },
  {
   "cell_type": "markdown",
   "metadata": {},
   "source": [
    "*คำตอบ* สามารถเรียกใช้ Calculator.add() และ Calculator.multiply() ได้โดยตรงเนื่องจาก Calculator เป็น static class และเมธอดภายในเป็น static\n",
    "ไม่ต้องสร้างออบเจ็กต์ ก็สามารถเรียกใช้ได้"
   ]
  },
  {
   "cell_type": "markdown",
   "metadata": {},
   "source": [
    "8. นำ code ในข้อ 2 มารันบน polyglot notebook  โดยใส่ใน  code cell ด้านล่างนี้\n"
   ]
  },
  {
   "cell_type": "code",
   "execution_count": null,
   "metadata": {},
   "outputs": [
    {
     "name": "stdout",
     "output_type": "stream",
     "text": [
      "2 + 3 = 5\n",
      "2 x 3 = 6\n"
     ]
    }
   ],
   "source": [
    "// พื้นที่เขียน code ตามข้อ 2\n",
    " int x = 2, y = 3;\n",
    "   int add_result = Calculator.add(x, y);\n",
    "   System.Console.WriteLine($\"{x} + {y} = {add_result}\");\n",
    " \n",
    "   int i = 2, j = 3;\n",
    "   int multiply_result = Calculator.multiply(i, j);\n",
    "   System.Console.WriteLine($\"{i} x {j} = {multiply_result}\");\n",
    "   \n",
    "   public static class Calculator\n",
    "  {\n",
    "      public static int add(int a, int b)\n",
    "      {\n",
    "         return a + b;\n",
    "      }\n",
    "      public static int multiply(int a, int b)\n",
    "      {\n",
    "          return a * b;\n",
    "      }\n",
    " }"
   ]
  },
  {
   "cell_type": "markdown",
   "metadata": {},
   "source": [
    "8.1 ผลการรันเป็นอย่างไร\n",
    "\n"
   ]
  },
  {
   "cell_type": "markdown",
   "metadata": {},
   "source": [
    "*คำตอบ* 2 + 3 = 5\n",
    "\n",
    "2 x 3 = 6\n",
    "\n"
   ]
  },
  {
   "cell_type": "markdown",
   "metadata": {},
   "source": [
    "8.2 เหมือนหรือต่างจาก console application อย่างไร"
   ]
  },
  {
   "cell_type": "markdown",
   "metadata": {},
   "source": [
    "*คำตอบ* แสดงผลลัพธ์เหมือนกัน"
   ]
  },
  {
   "cell_type": "markdown",
   "metadata": {},
   "source": [
    "## คำถาม"
   ]
  },
  {
   "cell_type": "markdown",
   "metadata": {},
   "source": [
    "1. static class คืออะไร และแตกต่างจาก class ธรรมดาอย่างไร"
   ]
  },
  {
   "cell_type": "markdown",
   "metadata": {},
   "source": [
    "*คำตอบ*  1.Static Class คือคลาสที่ไม่สามารถสร้างอินสแตนซ์ (Instance) ได้ และสมาชิกทั้งหมดของคลาสต้องเป็น static\n",
    "\n",
    "2.Class ธรรมดา สามารถสร้างอินสแตนซ์ได้ และสามารถมีสมาชิกได้ทั้ง static และ non-static"
   ]
  },
  {
   "cell_type": "markdown",
   "metadata": {},
   "source": [
    "2. เมื่อไหร่ควรใช้ static class และเมื่อไหร่ควรใช้ class ธรรมดา"
   ]
  },
  {
   "cell_type": "markdown",
   "metadata": {},
   "source": [
    "*คำตอบ* ใช้ Static Class เมื่อ ไม่ต้องการให้มีการสร้างอินสแตนซ์ของคลาส ฟังก์ชันไม่มีการเปลี่ยนแปลงสถานะภายใน (stateless) เช่น คำนวณคณิตศาสตร์, เครื่องมือช่วย (Utility class)\n",
    "\n",
    " \n",
    "ใช้ Class ธรรมดา เมื่อต้องการเก็บข้อมูลในรูปแบบ Objectต้องการสร้างและใช้หลายอินสแตนซ์ของคลาสมีพฤติกรรมที่ขึ้นอยู่กับสถานะของอ็อบเจ็กต์"
   ]
  },
  {
   "cell_type": "markdown",
   "metadata": {},
   "source": [
    "3. สมาชิกทั้งหมดของ static class ต้องเป็น static หรือไม่ เพราะอะไร"
   ]
  },
  {
   "cell_type": "markdown",
   "metadata": {},
   "source": [
    "*คำตอบ* สมาชิกทั้งหมดของ Static Class ต้องเป็น Static เพราะ Static Class ไม่สามารถสร้าง Instance ได้ ดังนั้นสมาชิกที่เป็น Non-Static จะไม่มีบริบทสำหรับการทำงาน"
   ]
  },
  {
   "cell_type": "markdown",
   "metadata": {},
   "source": [
    "4. เราสามารถสร้าง instance ของ static class ได้หรือไม่  เพราะอะไร"
   ]
  },
  {
   "cell_type": "markdown",
   "metadata": {},
   "source": [
    "*คำตอบ*  ไม่สามารถสร้าง Instance ของ Static Class ได้ เพราะ Static Class ไม่มี Constructor และไม่มีการกำหนดพื้นที่หน่วยความจำสำหรับอ็อบเจ็กต์"
   ]
  }
 ],
 "metadata": {
  "kernelspec": {
   "display_name": ".NET (C#)",
   "language": "C#",
   "name": ".net-csharp"
  },
  "polyglot_notebook": {
   "kernelInfo": {
    "defaultKernelName": "csharp",
    "items": [
     {
      "aliases": [],
      "languageName": "csharp",
      "name": "csharp"
     }
    ]
   }
  }
 },
 "nbformat": 4,
 "nbformat_minor": 2
}
