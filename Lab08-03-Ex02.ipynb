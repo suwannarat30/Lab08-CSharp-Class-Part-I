{
 "cells": [
  {
   "cell_type": "markdown",
   "metadata": {},
   "source": [
    "# Lab 8 Exercise 2\n",
    "\n",
    "## การประกาศสมาชิกในคลาส (fields)\n"
   ]
  },
  {
   "cell_type": "markdown",
   "metadata": {},
   "source": [
    "\n",
    "\n",
    "1. สร้าง console application project\n",
    "\n",
    "```\n",
    "    dotnet new console --name Lab08_Ex02\n",
    "```\n"
   ]
  },
  {
   "cell_type": "markdown",
   "metadata": {},
   "source": [
    "\n",
    "2. เปลี่ยน code ให้เป็นดังต่อไปนี้ (ตัวเลขข้างหน้า คือหมายเลขบรรทัด ไว้สำหรับอ้างอิง)\n",
    "\n",
    "> ```csharp\n",
    ">  1. Person p = new Person();\n",
    ">  2. p.name = \"Rambo\";\n",
    ">  3. p.id = \"1987\";\n",
    ">  4. p.income = 2500;\n",
    ">  5. System.Console.WriteLine($\"Type of p is {p.GetType()}\");\n",
    ">  6. System.Console.WriteLine($\"p.name = {p.name}\\ttype = {p.name.GetType()}\");\n",
    ">  7. System.Console.WriteLine($\"p.id = {p.id}\\ttype = {p.id.GetType()}\");\n",
    ">  8. System.Console.WriteLine($\"p.income = {p.income}\\ttype = {p.income.GetType()}\");\n",
    ">  9. \n",
    "> 10. class Person\n",
    "> 11. {\n",
    "> 12.     string name;\n",
    "> 13.     string id;\n",
    "> 14.     int income;\n",
    "> 15. }\n",
    "> ```\n"
   ]
  },
  {
   "cell_type": "markdown",
   "metadata": {},
   "source": [
    "\n",
    "3. Build project โดยการใช้คำสั่ง\n",
    "\n",
    "```\n",
    "    dotnet build  Lab08_Ex02\n",
    "```\n"
   ]
  },
  {
   "cell_type": "markdown",
   "metadata": {},
   "source": [
    "\n",
    "4. บันทึกผลที่ได้จากการรันคำสั่งในข้อ 3\n"
   ]
  },
  {
   "cell_type": "markdown",
   "metadata": {},
   "source": [
    "*คำตอบ*  Lab08_Ex02 failed with 9 error(s) and 5 warning(s) (0.3s)\n",
    "    C:\\OOP\\Lab08-CSharp-Class-Part-I\\Lab08-CSharp-Class-Part-I-1\\Lab08_Ex02\\Program.cs(12,12): warning CS8618: Non-nullable field 'name' must contain a non-null value when exiting constructor. Consider adding the 'required' modifier or declaring the field as nullable.\n",
    "    C:\\OOP\\Lab08-CSharp-Class-Part-I\\Lab08-CSharp-Class-Part-I-1\\Lab08_Ex02\\Program.cs(13,12): warning CS8618: Non-nullable field 'id' must contain a non-null value when exiting constructor. Consider adding the 'required' modifier or declaring the field as nullable.\n",
    "    C:\\OOP\\Lab08-CSharp-Class-Part-I\\Lab08-CSharp-Class-Part-I-1\\Lab08_Ex02\\Program.cs(2,3): error CS0122: 'Person.name' is inaccessible due to its protection level\n",
    "    C:\\OOP\\Lab08-CSharp-Class-Part-I\\Lab08-CSharp-Class-Part-I-1\\Lab08_Ex02\\Program.cs(3,3): error CS0122: 'Person.id' is inaccessible due to its protection level\n",
    "    C:\\OOP\\Lab08-CSharp-Class-Part-I\\Lab08-CSharp-Class-Part-I-1\\Lab08_Ex02\\Program.cs(4,3): error CS0122: 'Person.income' is inaccessible due to its protection level\n",
    "    C:\\OOP\\Lab08-CSharp-Class-Part-I\\Lab08-CSharp-Class-Part-I-1\\Lab08_Ex02\\Program.cs(6,40): error CS0122: 'Person.name' is inaccessible due to its protection level\n",
    "    C:\\OOP\\Lab08-CSharp-Class-Part-I\\Lab08-CSharp-Class-Part-I-1\\Lab08_Ex02\\Program.cs(6,57): error CS0122: 'Person.name' is inaccessible due to its protection level\n",
    "    C:\\OOP\\Lab08-CSharp-Class-Part-I\\Lab08-CSharp-Class-Part-I-1\\Lab08_Ex02\\Program.cs(7,38): error CS0122: 'Person.id' is inaccessible due to its protection level\n",
    "    C:\\OOP\\Lab08-CSharp-Class-Part-I\\Lab08-CSharp-Class-Part-I-1\\Lab08_Ex02\\Program.cs(7,53): error CS0122: 'Person.id' is inaccessible due to its protection level\n",
    "    C:\\OOP\\Lab08-CSharp-Class-Part-I\\Lab08-CSharp-Class-Part-I-1\\Lab08_Ex02\\Program.cs(8,42): error CS0122: 'Person.income' is inaccessible due to its protection level\n",
    "    C:\\OOP\\Lab08-CSharp-Class-Part-I\\Lab08-CSharp-Class-Part-I-1\\Lab08_Ex02\\Program.cs(8,61): error CS0122: 'Person.income' is inaccessible due to its protection level\n",
    "    C:\\OOP\\Lab08-CSharp-Class-Part-I\\Lab08-CSharp-Class-Part-I-1\\Lab08_Ex02\\Program.cs(14,9): warning CS0169: The field 'Person.income' is never used\n",
    "    C:\\OOP\\Lab08-CSharp-Class-Part-I\\Lab08-CSharp-Class-Part-I-1\\Lab08_Ex02\\Program.cs(13,12): warning CS0169: The field 'Person.id' is never used \n",
    "    C:\\OOP\\Lab08-CSharp-Class-Part-I\\Lab08-CSharp-Class-Part-I-1\\Lab08_Ex02\\Program.cs(12,12): warning CS0169: The field 'Person.name' is never used\n",
    "\n",
    "Build failed with 9 error(s) and 5 warning(s) in 0.8s"
   ]
  },
  {
   "cell_type": "markdown",
   "metadata": {},
   "source": [
    "\n",
    "5. Run project โดยการใช้คำสั่ง\n",
    "\n",
    "```\n",
    "    dotnet run --project Lab08_Ex02\n",
    "```\n"
   ]
  },
  {
   "cell_type": "markdown",
   "metadata": {},
   "source": [
    "\n",
    "6. บันทึกผลที่ได้จากการรันคำสั่งในข้อ 5\n",
    "\n"
   ]
  },
  {
   "cell_type": "markdown",
   "metadata": {},
   "source": [
    "*คำตอบ*  PS C:\\OOP\\Lab08-CSharp-Class-Part-I\\Lab08-CSharp-Class-Part-I-1> dotnet run --project Lab08_Ex02\n",
    "C:\\OOP\\Lab08-CSharp-Class-Part-I\\Lab08-CSharp-Class-Part-I-1\\Lab08_Ex02\\Program.cs(12,12): warning CS8618: Non-nullable field 'name' must contain a non-null value when exiting constructor. Consider adding the 'required' modifier or declaring the field as nullable.\n",
    "C:\\OOP\\Lab08-CSharp-Class-Part-I\\Lab08-CSharp-Class-Part-I-1\\Lab08_Ex02\\Program.cs(13,12): warning CS8618: Non-nullable field 'id' must contain a non-null value when exiting constructor. Consider adding the 'required' modifier or declaring the field as nullable.\n",
    "C:\\OOP\\Lab08-CSharp-Class-Part-I\\Lab08-CSharp-Class-Part-I-1\\Lab08_Ex02\\Program.cs(2,3): error CS0122: 'Person.name' is inaccessible due to its protection level\n",
    "C:\\OOP\\Lab08-CSharp-Class-Part-I\\Lab08-CSharp-Class-Part-I-1\\Lab08_Ex02\\Program.cs(3,3): error CS0122: 'Person.id' is inaccessible due to its protection level\n",
    "C:\\OOP\\Lab08-CSharp-Class-Part-I\\Lab08-CSharp-Class-Part-I-1\\Lab08_Ex02\\Program.cs(4,3): error CS0122: 'Person.income' is inaccessible due to its protection level\n",
    "C:\\OOP\\Lab08-CSharp-Class-Part-I\\Lab08-CSharp-Class-Part-I-1\\Lab08_Ex02\\Program.cs(6,40): error CS0122: 'Person.name' is inaccessible due to its protection level\n",
    "C:\\OOP\\Lab08-CSharp-Class-Part-I\\Lab08-CSharp-Class-Part-I-1\\Lab08_Ex02\\Program.cs(6,57): error CS0122: 'Person.name' is inaccessible due to its protection level\n",
    "C:\\OOP\\Lab08-CSharp-Class-Part-I\\Lab08-CSharp-Class-Part-I-1\\Lab08_Ex02\\Program.cs(7,38): error CS0122: 'Person.id' is inaccessible due to its protection level\n",
    "C:\\OOP\\Lab08-CSharp-Class-Part-I\\Lab08-CSharp-Class-Part-I-1\\Lab08_Ex02\\Program.cs(7,53): error CS0122: 'Person.id' is inaccessible due to its protection level\n",
    "C:\\OOP\\Lab08-CSharp-Class-Part-I\\Lab08-CSharp-Class-Part-I-1\\Lab08_Ex02\\Program.cs(8,42): error CS0122: 'Person.income' is inaccessible due to its protection level\n",
    "C:\\OOP\\Lab08-CSharp-Class-Part-I\\Lab08-CSharp-Class-Part-I-1\\Lab08_Ex02\\Program.cs(8,61): error CS0122: 'Person.income' is inaccessible due to its protection level\n",
    "C:\\OOP\\Lab08-CSharp-Class-Part-I\\Lab08-CSharp-Class-Part-I-1\\Lab08_Ex02\\Program.cs(14,9): warning CS0169: The field 'Person.income' is never used  \n",
    "C:\\OOP\\Lab08-CSharp-Class-Part-I\\Lab08-CSharp-Class-Part-I-1\\Lab08_Ex02\\Program.cs(13,12): warning CS0169: The field 'Person.id' is never used     \n",
    "C:\\OOP\\Lab08-CSharp-Class-Part-I\\Lab08-CSharp-Class-Part-I-1\\Lab08_Ex02\\Program.cs(12,12): warning CS0169: The field 'Person.name' is never used   \n",
    "\n",
    "The build failed. Fix the build errors and run again."
   ]
  },
  {
   "cell_type": "markdown",
   "metadata": {},
   "source": [
    "\n",
    "7. อธิบายสิ่งที่พบในการทดลอง\n",
    "\n"
   ]
  },
  {
   "cell_type": "markdown",
   "metadata": {},
   "source": [
    "*คำตอบ* protected ไม่สามารถเข้าถึงได้จากภายนอก ต้องใช้ public หากต้องการให้สามารถเข้าถึงได้จากภายนอกคลาส ฟิลด์ name และ id เป็น non-nullable string แต่ไม่มีค่าเริ่มต้น"
   ]
  },
  {
   "cell_type": "markdown",
   "metadata": {},
   "source": [
    "8. นำ code ในข้อ 2 มารันบน polyglot notebook  โดยใส่ใน  code cell ด้านล่างนี้\n"
   ]
  },
  {
   "cell_type": "code",
   "execution_count": null,
   "metadata": {
    "dotnet_interactive": {
     "language": "csharp"
    },
    "polyglot_notebook": {
     "kernelName": "csharp"
    }
   },
   "outputs": [
    {
     "ename": "Error",
     "evalue": "(2,3): error CS0122: 'Person.name' is inaccessible due to its protection level\r\n(3,3): error CS0122: 'Person.id' is inaccessible due to its protection level\r\n(4,3): error CS0122: 'Person.income' is inaccessible due to its protection level\r\n(6,40): error CS0122: 'Person.name' is inaccessible due to its protection level\r\n(6,57): error CS0122: 'Person.name' is inaccessible due to its protection level\r\n(7,38): error CS0122: 'Person.id' is inaccessible due to its protection level\r\n(7,53): error CS0122: 'Person.id' is inaccessible due to its protection level\r\n(8,42): error CS0122: 'Person.income' is inaccessible due to its protection level\r\n(8,61): error CS0122: 'Person.income' is inaccessible due to its protection level",
     "output_type": "error",
     "traceback": [
      "(2,3): error CS0122: 'Person.name' is inaccessible due to its protection level\r\n",
      "(3,3): error CS0122: 'Person.id' is inaccessible due to its protection level\r\n",
      "(4,3): error CS0122: 'Person.income' is inaccessible due to its protection level\r\n",
      "(6,40): error CS0122: 'Person.name' is inaccessible due to its protection level\r\n",
      "(6,57): error CS0122: 'Person.name' is inaccessible due to its protection level\r\n",
      "(7,38): error CS0122: 'Person.id' is inaccessible due to its protection level\r\n",
      "(7,53): error CS0122: 'Person.id' is inaccessible due to its protection level\r\n",
      "(8,42): error CS0122: 'Person.income' is inaccessible due to its protection level\r\n",
      "(8,61): error CS0122: 'Person.income' is inaccessible due to its protection level"
     ]
    }
   ],
   "source": [
    "Person p = new Person();\n",
    "p.name = \"Rambo\";\n",
    "p.id = \"1987\";\n",
    "p.income = 2500;\n",
    "System.Console.WriteLine($\"Type of p is {p.GetType()}\");\n",
    "System.Console.WriteLine($\"p.name = {p.name}\\ttype = {p.name.GetType()}\");\n",
    "System.Console.WriteLine($\"p.id = {p.id}\\ttype = {p.id.GetType()}\");\n",
    "System.Console.WriteLine($\"p.income = {p.income}\\ttype = {p.income.GetType()}\");\n",
    " \n",
    "class Person\n",
    "{\n",
    "    string name;\n",
    "    string id;\n",
    "    int income;\n",
    " }\n"
   ]
  },
  {
   "cell_type": "markdown",
   "metadata": {},
   "source": [
    "8.1 ผลการรันเป็นอย่างไร\n",
    "\n"
   ]
  },
  {
   "cell_type": "markdown",
   "metadata": {},
   "source": [
    "*คำตอบ* Error: (2,3): error CS0122: 'Person.name' is inaccessible due to its protection level\n",
    "(3,3): error CS0122: 'Person.id' is inaccessible due to its protection level\n",
    "(4,3): error CS0122: 'Person.income' is inaccessible due to its protection level\n",
    "(6,40): error CS0122: 'Person.name' is inaccessible due to its protection level\n",
    "(6,57): error CS0122: 'Person.name' is inaccessible due to its protection level\n",
    "(7,38): error CS0122: 'Person.id' is inaccessible due to its protection level\n",
    "(7,53): error CS0122: 'Person.id' is inaccessible due to its protection level\n",
    "(8,42): error CS0122: 'Person.income' is inaccessible due to its protection level\n",
    "(8,61): error CS0122: 'Person.income' is inaccessible due to its protection level"
   ]
  },
  {
   "cell_type": "markdown",
   "metadata": {},
   "source": [
    "8.2 เหมือนหรือค่างจาก console application อย่างไร"
   ]
  },
  {
   "cell_type": "markdown",
   "metadata": {},
   "source": [
    "*คำตอบ* Error CS0122: เกี่ยวกับการเข้าถึงตัวแปร name, id, และ income ในคลาส Person ที่ ไม่ได้ประกาศให้สามารถเข้าถึงจากภายนอก ด้วยระดับการเข้าถึงที่ไม่ถูกต้อง ข้อผิดพลาดนี้เกิดขึ้นใน Console Application และ GUI Application ได้เหมือนกัน เนื่องจากมันเกี่ยวข้องกับ ระดับการเข้าถึงของตัวแปรในคลาส "
   ]
  },
  {
   "cell_type": "markdown",
   "metadata": {},
   "source": [
    "## คำถาม"
   ]
  },
  {
   "cell_type": "markdown",
   "metadata": {},
   "source": [
    "1. Field ในภาษา C# คืออะไร\n"
   ]
  },
  {
   "cell_type": "markdown",
   "metadata": {},
   "source": [
    "*คำตอบ* Field คือตัวแปรที่ประกาศภายในคลาสหรือโครงสร้างเพื่อเก็บข้อมูลหรือสถานะ\n",
    "Field สามารถเป็นประเภทต่างๆ ได้ เช่น int, double, string และยังสามารถใช้ public หรือ private เพื่อกำหนดการเข้าถึง\n",
    "Static Fields ใช้เพื่อเก็บข้อมูลที่เกี่ยวข้องกับคลาสทั้งหมด ไม่ใช่แค่แต่ละอินสแตนซ์"
   ]
  },
  {
   "cell_type": "markdown",
   "metadata": {},
   "source": [
    "2. Field มีหน้าที่อะไรใน class \n"
   ]
  },
  {
   "cell_type": "markdown",
   "metadata": {},
   "source": [
    "Field ใช้ในการเก็บข้อมูลและสถานะของอ็อบเจ็กต์\n",
    "\n",
    "Field เป็นตัวแปรที่ใช้ในคลาสเพื่อเก็บค่าของอ็อบเจ็กต์หรือข้อมูลที่เกี่ยวข้องกับอินสแตนซ์ของคลาสนั้น\n",
    "\n",
    "สามารถตั้งค่าระดับการเข้าถึง (Access Modifier) เพื่อควบคุมการเข้าถึงจากภายนอกคลาสได้"
   ]
  },
  {
   "cell_type": "markdown",
   "metadata": {},
   "source": [
    "3. การประกาศ Field ทำได้อย่างไร ให้อธิบายรูปแบบการประกาศ field ในคลาส\n"
   ]
  },
  {
   "cell_type": "markdown",
   "metadata": {},
   "source": [
    "*คำตอบ* \n",
    "การประกาศ Field ใน C# สามารถทำได้โดยการกำหนดประเภทและชื่อของตัวแปรที่อยู่ภายในคลาส\n",
    "\n",
    "Field สามารถมี Access Modifiers เช่น public, private, protected, internal เพื่อกำหนดการเข้าถึง\n",
    "\n",
    "การใช้ static จะทำให้ Field เป็นของคลาส, readonly จะทำให้ไม่สามารถเปลี่ยนค่าได้หลังจากการกำหนดในคอนสตรัคเตอร์"
   ]
  },
  {
   "cell_type": "markdown",
   "metadata": {},
   "source": [
    "4. Field และ Variable แตกต่างกันอย่างไร\n"
   ]
  },
  {
   "cell_type": "markdown",
   "metadata": {},
   "source": [
    "*คำตอบ*\n",
    "\n",
    "1.Field ประกาศภายในคลาสหรือสตรัคเจอร์\n",
    "\n",
    "Variable ประกาศภายในเมธอดหรือบล็อกโค้ดขอบเขต\n",
    "\n",
    "2.Field ขอบเขตกว้าง สามารถเข้าถึงได้จากเมธอดต่าง ๆ ในคลาส\n",
    "\n",
    "Variable ขอบเขตจำกัดภายในเมธอดหรือบล็อกที่มันถูกประกาศ\n",
    "\n",
    "\n",
    "3.Field สามารถเข้าถึงได้จากภายนอกคลาส (ถ้าใช้ Access Modifier เช่น public)\n",
    "\n",
    "Variable ไม่สามารถเข้าถึงจากภายนอกบล็อกโค้ดที่มันถูกประกาศ\n",
    "\n",
    "\n",
    "4.Field ใช้เก็บข้อมูลสถานะของอ็อบเจ็กต์หรือคลาส\n",
    "\n",
    "Variable ใช้เก็บข้อมูลชั่วคราวในกระบวนการคำนวณหรือดำเนินการ\n",
    "\n",
    "\n",
    "5.Field จัดเก็บในฮีป (heap) หรือในตัวแปรของคลาส\n",
    "\n",
    "Variable จัดเก็บในสแต็ก (stack) และจะถูกลบเมื่อออกจากขอบเขตของมัน"
   ]
  },
  {
   "cell_type": "markdown",
   "metadata": {},
   "source": [
    "5. เมื่อไหร่ควรใช้ Field และเมื่อไหร่ควรใช้ Variable"
   ]
  },
  {
   "cell_type": "markdown",
   "metadata": {},
   "source": [
    "*คำตอบ*  ใช้ Field เมื่อข้อมูลนั้นต้องการเก็บไว้ระยะยาวภายในคลาสหรืออ็อบเจ็กต์ และอาจต้องการเข้าถึงจากหลายเมธอดหรือภายนอกคลาส\n",
    "ใช้ Variable เมื่อข้อมูลนั้นใช้ชั่วคราวในเมธอดหรือบล็อกโค้ด และไม่ต้องการให้มันค้างอยู่หลังจากเมธอดทำงานเสร็จ\n",
    "การเลือกใช้ Field หรือ Variable ขึ้นอยู่กับลักษณะและขอบเขตของข้อมูลในโปรแกรม"
   ]
  },
  {
   "cell_type": "markdown",
   "metadata": {},
   "source": [
    "6. ในโปรแกรมการทดลองนี้ มี field หรือไม่ อยู่ในบรรทัดที่เท่าไหร่\n"
   ]
  },
  {
   "cell_type": "markdown",
   "metadata": {},
   "source": [
    "*คำตอบ*  บรรทัดที่ 12-14: ประกาศ field name, id, income ภายในคลาส Person\n",
    "บรรทัดที่ 6-9: การใช้งาน field ในการสร้างอ็อบเจ็กต์ p และกำหนดค่าให้กับ name, id, income"
   ]
  },
  {
   "cell_type": "markdown",
   "metadata": {},
   "source": [
    "7. ผลจากการรันโปรแกรมใน Console Application และใน polyglot notebook เหมือนหรือแตกต่างกันอย่างไร"
   ]
  },
  {
   "cell_type": "markdown",
   "metadata": {},
   "source": [
    "*คำตอบ*  Console Application และ Polyglot Notebook เป็นข้อผิดพลาดเดียวกัน"
   ]
  }
 ],
 "metadata": {
  "kernelspec": {
   "display_name": ".NET (C#)",
   "language": "C#",
   "name": ".net-csharp"
  },
  "polyglot_notebook": {
   "kernelInfo": {
    "defaultKernelName": "csharp",
    "items": [
     {
      "aliases": [],
      "languageName": "csharp",
      "name": "csharp"
     }
    ]
   }
  }
 },
 "nbformat": 4,
 "nbformat_minor": 2
}
