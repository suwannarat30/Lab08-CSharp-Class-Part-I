{
 "cells": [
  {
   "cell_type": "markdown",
   "metadata": {},
   "source": [
    "# Lab 8 Exercise 1 \n",
    "##  การสร้าง Class\n"
   ]
  },
  {
   "cell_type": "markdown",
   "metadata": {},
   "source": [
    "\n",
    "1. สร้าง console application project\n"
   ]
  },
  {
   "cell_type": "markdown",
   "metadata": {},
   "source": [
    "1.1 เรียก terminal (cmd) ขึ้นมา \n",
    "\n",
    "1.2 ตรวจสอบให้แน่ใจว่าอยู่ใน folder หรือ directory ที่ต้องการสร้าง project \n",
    "\n",
    "1.3 พิมพ์คำสั่งต่อไปนี้\n",
    "\n",
    "``` \n",
    "    dotnet new console --name Lab08_Ex01\n",
    "```\n",
    "\n",
    "1.4 ใช้คำสั่ง dir เพื่อตรวจสอบดูว่าโฟลเดอร์ของ project ได้ถูกสร้างขึ้นแล้วหรือยัง"
   ]
  },
  {
   "cell_type": "markdown",
   "metadata": {},
   "source": [
    "\n",
    "2. เปลี่ยน code ในไฟล์ program.cs ให้เป็นดังต่อไปนี้ (ตัวเลขข้างหน้า คือหมายเลขบรรทัด ไว้สำหรับอ้างอิง)\n",
    "\n",
    "> ```c#\n",
    "> 1.  Person p = new Person();\n",
    "> 2.  System.Console.WriteLine($\"Type of p is {p.GetType()}\");\n",
    "> 3.  \n",
    "> 4.  class Person\n",
    "> 5.  {\n",
    "> 6.  \n",
    "> 7.  }\n",
    "> ```\n"
   ]
  },
  {
   "cell_type": "markdown",
   "metadata": {},
   "source": [
    "\n",
    "3. Build project โดยการใช้คำสั่ง\n",
    "\n",
    "```\n",
    "dotnet build  Lab08_Ex01\n",
    "```\n"
   ]
  },
  {
   "cell_type": "markdown",
   "metadata": {},
   "source": [
    "\n",
    "4. บันทึกผลที่ได้จากการรันคำสั่งในข้อ 3\n"
   ]
  },
  {
   "cell_type": "markdown",
   "metadata": {},
   "source": [
    "*คำตอบ* Lab08_Ex01 succeeded (3.6s) → Lab08_Ex01\\bin\\Debug\\net9.0\\Lab08_Ex01.dll\n",
    "\n",
    "Build succeeded in 4.5s"
   ]
  },
  {
   "cell_type": "markdown",
   "metadata": {},
   "source": [
    "\n",
    "5. Run project โดยการใช้คำสั่ง\n",
    "\n",
    "```\n",
    "dotnet run --project Lab08_Ex01\n",
    "```\n"
   ]
  },
  {
   "cell_type": "markdown",
   "metadata": {},
   "source": [
    "\n",
    "6. บันทึกผลที่ได้จากการรันคำสั่งในข้อ 5\n"
   ]
  },
  {
   "cell_type": "markdown",
   "metadata": {},
   "source": [
    "*คำตอบ* Type of p is Person"
   ]
  },
  {
   "cell_type": "markdown",
   "metadata": {},
   "source": [
    "7. โค้ดต่อไปนี้สามารถรันได้ใน polyglot notebook หรือไม่ "
   ]
  },
  {
   "cell_type": "code",
   "execution_count": null,
   "metadata": {
    "dotnet_interactive": {
     "language": "csharp"
    },
    "polyglot_notebook": {
     "kernelName": "csharp"
    }
   },
   "outputs": [
    {
     "name": "stdout",
     "output_type": "stream",
     "text": [
      "Type of p is Submission#1+Person\r\n"
     ]
    }
   ],
   "source": [
    "Person p = new Person();\n",
    "System.Console.WriteLine($\"Type of p is {p.GetType()}\");\n",
    "\n",
    "class Person\n",
    "{\n",
    "\n",
    "}"
   ]
  },
  {
   "cell_type": "markdown",
   "metadata": {},
   "source": [
    "*คำตอบ* Type of p is Submission#1+Person"
   ]
  },
  {
   "cell_type": "markdown",
   "metadata": {},
   "source": [
    "## คำถาม\n",
    "\n"
   ]
  },
  {
   "cell_type": "markdown",
   "metadata": {},
   "source": [
    "1. Class ในภาษา C# คืออะไร\n"
   ]
  },
  {
   "cell_type": "markdown",
   "metadata": {},
   "source": [
    "*คำตอบ* Class เป็นแม่แบบสำหรับสร้างวัตถุ (Object) ใน C#\n",
    "\n"
   ]
  },
  {
   "cell_type": "markdown",
   "metadata": {},
   "source": [
    "2. Class มีหน้าที่อะไร\n"
   ]
  },
  {
   "cell_type": "markdown",
   "metadata": {},
   "source": [
    "*คำตอบ* สามารถใช้โค้ดเดิมซ้ำโดยไม่ต้องเขียนใหม่รวมข้อมูลและเมธอดที่เกี่ยวข้องให้อยู่ในคลาสเดียว ควบคุมการเข้าถึงข้อมูลภายในคลาสอ็อบเจ็กต์เดียวกันทำงานได้แตกต่างกัน"
   ]
  },
  {
   "cell_type": "markdown",
   "metadata": {},
   "source": [
    "3. ทำไมเราต้องใช้ Class\n"
   ]
  },
  {
   "cell_type": "markdown",
   "metadata": {},
   "source": [
    "*คำตอบ* Class ช่วยให้เราสามารถจัดกลุ่ม ข้อมูลและพฤติกรรม ที่เกี่ยวข้องให้อยู่รวมกันทำให้โค้ดอ่านง่ายขึ้นและลดความซับซ้อน นำไปใช้ซ้ำได้ในหลายที่และยังสามารถสืบทอดคุณสมบัติจากคลาสแม่ "
   ]
  },
  {
   "cell_type": "markdown",
   "metadata": {},
   "source": [
    "4. ส่วนประกอบของ Class มีอะไรบ้าง\n"
   ]
  },
  {
   "cell_type": "markdown",
   "metadata": {},
   "source": [
    "*คำตอบ* \n",
    "1. Fields ตัวแปรของคลาสใช้เก็บข้อมูลหรือสถานะของอ็อบเจ็กต์\n",
    "\n",
    "2. Properties คุณสมบัติของคลาสใช้ควบคุมการเข้าถึงค่าของ Fields\n",
    "\n",
    "3. Methods เมธอดหรือฟังก์ชันของคลาสใช้กำหนดพฤติกรรมของคลาส\n",
    "\n",
    "4. Constructors ตัวสร้างคลาสเมธอดพิเศษที่ใช้สร้างและกำหนดค่าเริ่มต้นให้กับอ็อบเจ็กต์\n",
    "\n",
    "5. Destructors ตัวทำลายคลาสเมธอดพิเศษที่ใช้ทำลายอ็อบเจ็กต์เมื่อไม่ใช้งาน\n",
    "\n",
    "6. Access Modifiers ตัวกำหนดการเข้าถึงใช้กำหนดระดับการเข้าถึงของข้อมูลและเมธอดในคลาส\n",
    "\n",
    "7. Static Members สมาชิกแบบ Staticใช้กำหนดค่าหรือพฤติกรรมที่เป็นของคลาส ไม่ใช่ของอ็อบเจ็กต์แต่ละตัว\n",
    "\n",
    "8. Inheritance การสืบทอดคลาสช่วยให้คลาสใหม่สามารถใช้คุณสมบัติของคลาสเดิมได้"
   ]
  },
  {
   "cell_type": "markdown",
   "metadata": {},
   "source": [
    "5. Class และ Object แตกต่างกันอย่างไร\n"
   ]
  },
  {
   "cell_type": "markdown",
   "metadata": {},
   "source": [
    "*คำตอบ* Class เป็น พิมพ์เขียว ที่กำหนดโครงสร้างและพฤติกรรมของ Object\n",
    "Object เป็น อินสแตนซ์ ของ Class ที่ถูกสร้างขึ้นมาและใช้งานจริง"
   ]
  },
  {
   "cell_type": "markdown",
   "metadata": {},
   "source": [
    "6. การตั้งชื่อ Class มีหลักเกณฑ์อย่างไร"
   ]
  },
  {
   "cell_type": "markdown",
   "metadata": {},
   "source": [
    "*คำตอบ* ใช้ \n",
    "PascalCase\n",
    "\n",
    "ตั้งชื่อให้ สื่อความหมาย\n",
    "\n",
    "หลีกเลี่ยง คำนำหน้าแบบเก่า, คำย่อ, ตัวเลข และคำสงวน\n",
    "\n",
    "ถ้าเป็น Interface ให้ใช้ I นำหน้า"
   ]
  },
  {
   "cell_type": "markdown",
   "metadata": {},
   "source": [
    "7. คำสั่ง p.GetType() คืออะไร"
   ]
  },
  {
   "cell_type": "markdown",
   "metadata": {},
   "source": [
    "*คำตอบ* ใช้เพื่อดึงข้อมูลประเภทของอ็อบเจ็กต์ในขณะรันไทม์ คืนค่าเป็น System.Type ใช้เพื่อตรวจสอบประเภทของอ็อบเจ็กต์ หรือใช้กับ Reflection  GetType() ใช้กับอ็อบเจ็กต์ที่มีค่า, typeof() ใช้กับชนิดข้อมูลโดยตรง"
   ]
  },
  {
   "cell_type": "markdown",
   "metadata": {},
   "source": [
    "8. ผลที่ได้จากคำสั่ง  p.GetType() คืออะไร มันให้ข้อมูลอะไรแก่เราบ้าง"
   ]
  },
  {
   "cell_type": "markdown",
   "metadata": {},
   "source": [
    "*คำตอบ* เมื่อเราเรียกใช้ p.GetType() ใน C# มันจะคืนค่า System.Type ซึ่งเป็นข้อมูลเกี่ยวกับ ประเภทของอ็อบเจ็กต์ (p) นั้น ๆ\n",
    "\n"
   ]
  },
  {
   "cell_type": "markdown",
   "metadata": {},
   "source": [
    "9. ในภาษา C# การประกาศ class ไว้ก่อนหรือหลังการสร้าง  object ต่างกันหรือไม่ "
   ]
  },
  {
   "cell_type": "markdown",
   "metadata": {},
   "source": [
    "*คำตอบ* \n",
    "C# ต้องประกาศ class ก่อนสร้าง object\n",
    "หากคลาสอยู่ในไฟล์อื่น จะไม่มีปัญหา เพราะคอมไพเลอร์อ่านไฟล์ทั้งหมดก่อนคอมไพล์\n",
    "กรณีพิเศษที่ class สามารถอยู่หลัง object ได้ คือ Nested Class เท่านั้น"
   ]
  }
 ],
 "metadata": {
  "kernelspec": {
   "display_name": ".NET (C#)",
   "language": "C#",
   "name": ".net-csharp"
  },
  "polyglot_notebook": {
   "kernelInfo": {
    "defaultKernelName": "csharp",
    "items": [
     {
      "aliases": [],
      "languageName": "csharp",
      "name": "csharp"
     }
    ]
   }
  }
 },
 "nbformat": 4,
 "nbformat_minor": 2
}
