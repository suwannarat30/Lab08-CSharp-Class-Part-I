{
 "cells": [
  {
   "cell_type": "markdown",
   "metadata": {},
   "source": [
    "# Lab 8 Exercise 4\n",
    "\n",
    "## Fields declaration and initialization\n",
    "\n"
   ]
  },
  {
   "cell_type": "markdown",
   "metadata": {},
   "source": [
    "\n",
    "1. สร้าง console application project\n",
    "\n",
    "```\n",
    "    dotnet new console --name Lab08_Ex04\n",
    "```\n"
   ]
  },
  {
   "cell_type": "markdown",
   "metadata": {},
   "source": [
    "\n",
    "2. เปลี่ยน code ให้เป็นดังต่อไปนี้\n",
    "\n",
    "> ```csharp\n",
    ">  1. var myObj = new MyClass();\n",
    ">  2. \n",
    ">  3. System.Console.WriteLine($\"Default integer      F1 = {myObj.F1}\");  //Implicit fields initialization\n",
    ">  4. System.Console.WriteLine($\"Default string       F2 = {myObj.F2}\");\n",
    ">  5. System.Console.WriteLine($\"Initialized integer  F3 = {myObj.F3}\");  //Explicit field initialization\n",
    ">  6. System.Console.WriteLine($\"Initialized string   F4 = {myObj.F4}\");\n",
    ">  7. \n",
    ">  8. class MyClass\n",
    ">  9. {\n",
    "> 10.    public int F1;\n",
    "> 11.    public string F2;\n",
    "> 12.    public int F3 = 100;\n",
    "> 13.    public string F4 = \"ASDF\";\n",
    "> 14. }\n",
    "> ```"
   ]
  },
  {
   "cell_type": "markdown",
   "metadata": {},
   "source": [
    "\n",
    "3. Build project โดยการใช้คำสั่ง\n",
    "\n",
    "```\n",
    "    dotnet build  Lab08_Ex04\n",
    "```"
   ]
  },
  {
   "cell_type": "markdown",
   "metadata": {},
   "source": [
    "\n",
    "4. บันทึกผลที่ได้จากการรันคำสั่งในข้อ 3\n"
   ]
  },
  {
   "cell_type": "markdown",
   "metadata": {},
   "source": [
    "*คำตอบ* Lab08_Ex04 failed with 8 error(s) (0.2s)\n",
    "    C:\\OOP\\Lab08-CSharp-Class-Part-I\\Lab08-CSharp-Class-Part-I-1\\Lab08_Ex04\\Program.cs(1,27): error CS1525: Invalid expression term '>'\n",
    "    C:\\OOP\\Lab08-CSharp-Class-Part-I\\Lab08-CSharp-Class-Part-I-1\\Lab08_Ex04\\Program.cs(2,6): error CS1001: Identifier expected\n",
    "    C:\\OOP\\Lab08-CSharp-Class-Part-I\\Lab08-CSharp-Class-Part-I-1\\Lab08_Ex04\\Program.cs(3,73): error CS1525: Invalid expression term '>'\n",
    "    C:\\OOP\\Lab08-CSharp-Class-Part-I\\Lab08-CSharp-Class-Part-I-1\\Lab08_Ex04\\Program.cs(4,73): error CS1525: Invalid expression term '>'\n",
    "    C:\\OOP\\Lab08-CSharp-Class-Part-I\\Lab08-CSharp-Class-Part-I-1\\Lab08_Ex04\\Program.cs(5,73): error CS1525: Invalid expression term '>'\n",
    "    C:\\OOP\\Lab08-CSharp-Class-Part-I\\Lab08-CSharp-Class-Part-I-1\\Lab08_Ex04\\Program.cs(6,73): error CS1525: Invalid expression term '>'\n",
    "    C:\\OOP\\Lab08-CSharp-Class-Part-I\\Lab08-CSharp-Class-Part-I-1\\Lab08_Ex04\\Program.cs(7,6): error CS1001: Identifier expected\n",
    "    C:\\OOP\\Lab08-CSharp-Class-Part-I\\Lab08-CSharp-Class-Part-I-1\\Lab08_Ex04\\Program.cs(7,6): error CS1002: ; expected\n",
    "\n",
    "Build failed with 8 error(s) in 0.7s"
   ]
  },
  {
   "cell_type": "markdown",
   "metadata": {},
   "source": [
    "\n",
    "5. Run project โดยการใช้คำสั่ง\n",
    "\n",
    "```\n",
    "    dotnet run --project Lab08_Ex04\n",
    "```"
   ]
  },
  {
   "cell_type": "markdown",
   "metadata": {},
   "source": [
    "\n",
    "6. บันทึกผลที่ได้จากการรันคำสั่งในข้อ 5\n",
    "\n"
   ]
  },
  {
   "cell_type": "markdown",
   "metadata": {},
   "source": [
    "*คำตอบ* Default integer      F1 = 0\n",
    "Default string       F2 = \n",
    "Initialized integer  F3 = 100\n",
    "Initialized string   F4 = ASDF\n",
    "PS C:\\OOP\\Lab08-CSharp-Class-Part-I\\Lab08-CSharp-Class-Part-I-1> "
   ]
  },
  {
   "cell_type": "markdown",
   "metadata": {},
   "source": [
    "7. อธิบายสิ่งที่พบในการทดลอง"
   ]
  },
  {
   "cell_type": "markdown",
   "metadata": {},
   "source": [
    "*คำตอบ* พพบข้อผิดพลาดเกี่ยวกับ Syntax หลายจุด โดยเฉพาะ\n",
    "ใช้ > ผิดตำแหน่ง เช่น <T> อาจถูกใช้ผิดที่\n",
    "ขาด Identifier หรือไม่ได้กำหนดชื่อตัวแปรให้ถูกต้อง\n",
    "ขาด ; ในคำสั่งบางบรรทัด"
   ]
  },
  {
   "cell_type": "code",
   "execution_count": null,
   "metadata": {
    "dotnet_interactive": {
     "language": "csharp"
    },
    "polyglot_notebook": {
     "kernelName": "csharp"
    }
   },
   "outputs": [
    {
     "name": "stdout",
     "output_type": "stream",
     "text": [
      "Default integer      F1 = 0\n",
      "Default string       F2 = \n",
      "Initialized integer  F3 = 100\n",
      "Initialized string   F4 = ASDF\n"
     ]
    }
   ],
   "source": [
    "// พื้นที่เขียน code ตามข้อ 2\n",
    "var myObj = new MyClass();\n",
    "   \n",
    "   System.Console.WriteLine($\"Default integer      F1 = {myObj.F1}\");  //Implicit fields initialization\n",
    "   System.Console.WriteLine($\"Default string       F2 = {myObj.F2}\");\n",
    "   System.Console.WriteLine($\"Initialized integer  F3 = {myObj.F3}\");  //Explicit field initialization\n",
    "   System.Console.WriteLine($\"Initialized string   F4 = {myObj.F4}\");\n",
    "   \n",
    "   class MyClass\n",
    "   {\n",
    "     public int F1;\n",
    "     public string F2;\n",
    "     public int F3 = 100;\n",
    "     public string F4 = \"ASDF\";\n",
    "  }"
   ]
  },
  {
   "cell_type": "markdown",
   "metadata": {},
   "source": [
    "8.1 ผลการรันเป็นอย่างไร\n",
    "\n"
   ]
  },
  {
   "cell_type": "markdown",
   "metadata": {},
   "source": [
    "*คำตอบ* Default integer      F1 = 0\n",
    "Default string       F2 = \n",
    "Initialized integer  F3 = 100\n",
    "Initialized string   F4 = ASDF"
   ]
  },
  {
   "cell_type": "markdown",
   "metadata": {},
   "source": [
    "8.2 เหมือนหรือต่างจาก console application อย่างไร"
   ]
  },
  {
   "cell_type": "markdown",
   "metadata": {},
   "source": [
    "*คำตอบ* แสดงเหมือนกัน\n",
    "\n",
    "Default integer      F1 = 0\n",
    "\n",
    "Default string       F2 = \n",
    "\n",
    "Initialized integer  F3 = 100\n",
    "\n",
    "Initialized string   F4 = ASDF\n"
   ]
  },
  {
   "cell_type": "markdown",
   "metadata": {},
   "source": [
    "## คำถาม"
   ]
  },
  {
   "cell_type": "markdown",
   "metadata": {},
   "source": [
    "1. Field ในภาษา C# คืออะไร\n"
   ]
  },
  {
   "cell_type": "markdown",
   "metadata": {},
   "source": [
    "*คำตอบ* Field เป็นตัวแปรที่อยู่ในคลาส  หรือโครงสร้าง \n",
    "\n",
    "ใช้เก็บค่าข้อมูลของอ็อบเจ็กต์แต่ละตัว Instance ของคลาส\n",
    "\n",
    "สามารถกำหนดระดับการเข้าถึงได้ เช่น public, private, protected, internal\n",
    "\n",
    "สามารถกำหนดค่าเริ่มต้นให้กับ Field ได้\n",
    "\n",
    "มักใช้ร่วมกับ Properties เพื่อควบคุมการเข้าถึงค่า\n"
   ]
  },
  {
   "cell_type": "markdown",
   "metadata": {},
   "source": [
    "2. Field มีหน้าที่อะไรใน class \n"
   ]
  },
  {
   "cell_type": "markdown",
   "metadata": {},
   "source": [
    "*คำตอบ* เก็บข้อมูลของอ็อบเจ็กต์ เป็นสถานที่เก็บค่าที่อ็อบเจ็กต์ต้องใช้ เช่น ชื่อ, อายุ, เงินเดือน\n",
    "\n",
    "กำหนดสถานะของอ็อบเจ็กต์ ใช้แทนข้อมูลเฉพาะของอ็อบเจ็กต์แต่ละตัว เช่น Person แต่ละคนมี name และ age ต่างกัน\n",
    "\n",
    "ช่วยให้คลาสสามารถจัดการข้อมูลของตัวเองได้ มักใช้ร่วมกับ Properties เพื่อควบคุมการเข้าถึงข้อมูล\n",
    "\n",
    "กำหนดค่าเริ่มต้น (Default State)สามารถกำหนดค่าเริ่มต้นให้ Field เพื่อให้แน่ใจว่าอ็อบเจ็กต์เริ่มต้นในสภาวะที่ถูกต้อง"
   ]
  },
  {
   "cell_type": "markdown",
   "metadata": {},
   "source": [
    "3. การประกาศ Field ทำได้อย่างไร"
   ]
  },
  {
   "cell_type": "markdown",
   "metadata": {},
   "source": [
    "*คำตอบ* ตัวแปรภายในคลาสที่ใช้เก็บข้อมูลของอ็อบเจ็กต์ สามารถประกาศได้โดยระบุ ประเภทข้อมูล (Data Type) และ ระดับการเข้าถึง "
   ]
  },
  {
   "cell_type": "markdown",
   "metadata": {},
   "source": [
    "4. Implicit fields initialization  คืออะไร"
   ]
  },
  {
   "cell_type": "markdown",
   "metadata": {},
   "source": [
    "*คำตอบ* กำหนดค่าเริ่มต้นให้ Field โดยอัตโนมัติ ตามประเภทของตัวแปร"
   ]
  },
  {
   "cell_type": "markdown",
   "metadata": {},
   "source": [
    "5. Explicit field initialization คืออะไร\n",
    "\n"
   ]
  },
  {
   "cell_type": "markdown",
   "metadata": {},
   "source": [
    "*คำตอบ* ผู้เขียนโปรแกรมกำหนดค่าเริ่มต้นให้ Field เอง"
   ]
  },
  {
   "cell_type": "markdown",
   "metadata": {},
   "source": [
    "6. Implicit fields initialization  และ Explicit field initialization แตกต่างกันอย่างไร\n",
    "\n"
   ]
  },
  {
   "cell_type": "markdown",
   "metadata": {},
   "source": [
    "*คำตอบ* Implicit Field Initialization กำหนดค่าเอง จำกัดค่า Explicit Field Initialization ผู้พัฒนาเป็นคนกำหนดค่าเอง ยืดหยุ่นมากกว่า"
   ]
  }
 ],
 "metadata": {
  "kernelspec": {
   "display_name": ".NET (C#)",
   "language": "C#",
   "name": ".net-csharp"
  },
  "polyglot_notebook": {
   "kernelInfo": {
    "defaultKernelName": "csharp",
    "items": [
     {
      "aliases": [],
      "languageName": "csharp",
      "name": "csharp"
     }
    ]
   }
  }
 },
 "nbformat": 4,
 "nbformat_minor": 2
}
