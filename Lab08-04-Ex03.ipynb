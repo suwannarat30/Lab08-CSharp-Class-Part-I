{
 "cells": [
  {
   "cell_type": "markdown",
   "metadata": {
    "dotnet_interactive": {
     "language": "csharp"
    },
    "polyglot_notebook": {
     "kernelName": "csharp"
    }
   },
   "source": [
    "# Lab 8 Exercise 3\n",
    "\n",
    "## การควบคุมการเข้าถึงสมาชิกในคลาส (fields)\n"
   ]
  },
  {
   "cell_type": "markdown",
   "metadata": {},
   "source": [
    "\n",
    "1. สร้าง console application project\n",
    "\n",
    "> ```\n",
    ">     dotnet new console --name Lab08_Ex03\n",
    "> ```\n"
   ]
  },
  {
   "cell_type": "markdown",
   "metadata": {},
   "source": [
    "\n",
    "2. เปลี่ยน code ให้เป็นดังต่อไปนี้\n",
    "\n",
    "> ```csharp\n",
    ">  1. Person p = new Person();\n",
    ">  2. p.name = \"Rambo\";\n",
    ">  3. p.id = \"1987\";\n",
    ">  4. p.income = 2500;\n",
    ">  5. System.Console.WriteLine($\"Type of p is {p.GetType()}\");\n",
    ">  6. System.Console.WriteLine($\"p.name = {p.name}\\ttype = {p.name.GetType()}\");\n",
    ">  7. System.Console.WriteLine($\"p.id = {p.id}\\ttype = {p.id.GetType()}\");\n",
    ">  8. System.Console.WriteLine($\"p.income = {p.income}\\ttype = {p.income.GetType()}\");\n",
    ">  9. \n",
    "> 10. class Person\n",
    "> 11. {\n",
    "> 12.     public string? name;\n",
    "> 13.     public string? id;\n",
    "> 14.     public int income;\n",
    "> 15. }\n",
    "> ```"
   ]
  },
  {
   "cell_type": "markdown",
   "metadata": {},
   "source": [
    "\n",
    "3. Build project โดยการใช้คำสั่ง\n",
    "\n",
    "> ```\n",
    ">     dotnet build  Lab08_Ex03\n",
    "> ```\n"
   ]
  },
  {
   "cell_type": "markdown",
   "metadata": {},
   "source": [
    "\n",
    "4. บันทึกผลที่ได้จากการรันคำสั่งในข้อ 3\n"
   ]
  },
  {
   "cell_type": "markdown",
   "metadata": {},
   "source": [
    "*คำตอบ* Lab08_Ex03 succeeded (0.4s) → Lab08_Ex03\\bin\\Debug\\net9.0\\Lab08_Ex03.dll\n",
    "\n",
    "Build succeeded in 0.8s"
   ]
  },
  {
   "cell_type": "markdown",
   "metadata": {},
   "source": [
    "\n",
    "5. Run project โดยการใช้คำสั่ง\n",
    "\n",
    "> ```\n",
    ">     dotnet run --project Lab08_Ex03\n",
    "> ```\n"
   ]
  },
  {
   "cell_type": "markdown",
   "metadata": {},
   "source": [
    "\n",
    "6. บันทึกผลที่ได้จากการรันคำสั่งในข้อ 5\n"
   ]
  },
  {
   "cell_type": "markdown",
   "metadata": {},
   "source": [
    "*คำตอบ* Type of p is Person\n",
    "p.name = Rambo  type = System.String\n",
    "p.id = 1987     type = System.String\n",
    "p.income = 2500 type = System.Int32\n",
    "PS C:\\OOP\\Lab08-CSharp-Class-Part-I\\Lab08-CSharp-Class-Part-I-1> "
   ]
  },
  {
   "cell_type": "markdown",
   "metadata": {},
   "source": [
    "7. นำโค้ดในข้อ 2  มารันใน code cell\n",
    "\n"
   ]
  },
  {
   "cell_type": "code",
   "execution_count": null,
   "metadata": {
    "dotnet_interactive": {
     "language": "csharp"
    },
    "polyglot_notebook": {
     "kernelName": "csharp"
    }
   },
   "outputs": [
    {
     "name": "stdout",
     "output_type": "stream",
     "text": [
      "Type of p is Submission#2+Person\n",
      "p.name = Rambo\ttype = System.String\n",
      "p.id = 1987\ttype = System.String\n",
      "p.income = 2500\ttype = System.Int32\n"
     ]
    }
   ],
   "source": [
    "Person p = new Person();\n",
    "p.name = \"Rambo\";\n",
    "p.id = \"1987\";\n",
    "p.income = 2500;\n",
    "System.Console.WriteLine($\"Type of p is {p.GetType()}\");\n",
    "System.Console.WriteLine($\"p.name = {p.name}\\ttype = {p.name.GetType()}\");\n",
    "System.Console.WriteLine($\"p.id = {p.id}\\ttype = {p.id.GetType()}\");\n",
    "System.Console.WriteLine($\"p.income = {p.income}\\ttype = {p.income.GetType()}\");\n",
    "\n",
    "class Person\n",
    "{\n",
    "  public string? name;\n",
    "  public string? id;\n",
    "  public int income;\n",
    "}"
   ]
  },
  {
   "cell_type": "markdown",
   "metadata": {},
   "source": [
    "## คำถาม"
   ]
  },
  {
   "cell_type": "markdown",
   "metadata": {},
   "source": [
    "1. Access modifier ในภาษา C# คืออะไร\n"
   ]
  },
  {
   "cell_type": "markdown",
   "metadata": {},
   "source": [
    "*คำตอบ* คือ ตัวกำหนดระดับการเข้าถึงของคลาส ฟิลด์ (Fields), เมธอด (Methods) และสมาชิกอื่น ๆ ภายในโปรแกรม ซึ่งช่วยควบคุมว่าสมาชิกของคลาสสามารถเข้าถึงได้จากที่ใดบ้าง"
   ]
  },
  {
   "cell_type": "markdown",
   "metadata": {},
   "source": [
    "2. จงอธิบายขอบเขตและการใช้งานของ Access modifier ต่อไปนี้ \n"
   ]
  },
  {
   "cell_type": "markdown",
   "metadata": {},
   "source": [
    "2.1  public\n",
    "ขอบเขตการเข้าถึง สามารถเข้าถึงได้จาก ทุกที่ในโปรแกรมใช้ได้ทั้งภายในคลาสเดียวกัน และจากคลาสอื่นรวมถึงจากไฟล์อื่น ๆ\n",
    "\n",
    "การใช้งาน ใช้กับ คลาส, ฟิลด์, เมธอด, พร็อพเพอร์ตี้ ที่ต้องการให้สามารถเข้าถึงได้จากทุกที่"
   ]
  },
  {
   "cell_type": "markdown",
   "metadata": {},
   "source": [
    "2.2 private\n"
   ]
  },
  {
   "cell_type": "markdown",
   "metadata": {},
   "source": [
    "*คำตอบ* ขอบเขตการเข้าถึงสามารถเข้าถึงได้ เฉพาะภายในคลาสที่ประกาศเท่านั้น คลาสอื่นหรือแม้แต่คลาสลูกไม่สามารถเข้าถึงได้\n",
    "\n",
    "การใช้งานใช้สำหรับ ฟิลด์ หรือ เมธอด ที่ต้องการซ่อนข้อมูลภายในคลาส"
   ]
  },
  {
   "cell_type": "markdown",
   "metadata": {},
   "source": [
    "2.3 protected\n"
   ]
  },
  {
   "cell_type": "markdown",
   "metadata": {},
   "source": [
    "*คำตอบ* ขอบเขตการเข้าถึงเข้าถึงได้จาก ภายในคลาสเดียวกัน และ คลาสที่สืบทอดคลาสอื่นที่ไม่ได้สืบทอดจะ ไม่สามารถเข้าถึงได้\n",
    "\n",
    "การใช้งาน ใช้สำหรับ ฟิลด์ หรือ เมธอด ที่ต้องการให้คลาสลูกสามารถใช้งานได้นิยมใช้ใน OOP"
   ]
  },
  {
   "cell_type": "markdown",
   "metadata": {},
   "source": [
    "2.4 internal\n"
   ]
  },
  {
   "cell_type": "markdown",
   "metadata": {},
   "source": [
    "*คำตอบ* ขอบเขตการเข้าถึงสามารถเข้าถึงได้จาก ทุกที่ภายใน Assembly เดียวกันไม่สามารถเข้าถึงจาก Assembly อื่นได้\n",
    "การใช้งานใช้เพื่อซ่อนโค้ดจาก Assembly อื่น แต่ยังสามารถใช้ได้ภายในโปรเจกต์เดียวกัน"
   ]
  },
  {
   "cell_type": "markdown",
   "metadata": {},
   "source": [
    "2.5 protected internal"
   ]
  },
  {
   "cell_type": "markdown",
   "metadata": {},
   "source": [
    "*คำตอบ* ขอบเขตการเข้าถึงเข้าถึงได้จาก ภายใน Assembly เดียวกันและยังเข้าถึงได้จาก คลาสลูก (Derived Class) แม้อยู่คนละ Assembly\n",
    "การใช้งาน ใช้เมื่อเราต้องการให้ คลาสลูกในโปรเจกต์อื่น เข้าถึงสมาชิกของคลาสหลัก"
   ]
  },
  {
   "cell_type": "markdown",
   "metadata": {},
   "source": [
    "3. ถ้าแก้ไขโค้ดในบรรทัดที่ 14 เป็นดังต่อไปนี้  จะได้ผลการ build หรือ run เป็นอย่างไร \n",
    "```csharp\n",
    "    private int income;\n",
    "```"
   ]
  },
  {
   "cell_type": "code",
   "execution_count": null,
   "metadata": {
    "dotnet_interactive": {
     "language": "csharp"
    },
    "polyglot_notebook": {
     "kernelName": "csharp"
    }
   },
   "outputs": [
    {
     "ename": "Error",
     "evalue": "(5,6): error CS0122: 'Person.income' is inaccessible due to its protection level\r\n(9,45): error CS0122: 'Person.income' is inaccessible due to its protection level\r\n(9,64): error CS0122: 'Person.income' is inaccessible due to its protection level",
     "output_type": "error",
     "traceback": [
      "(5,6): error CS0122: 'Person.income' is inaccessible due to its protection level\r\n",
      "(9,45): error CS0122: 'Person.income' is inaccessible due to its protection level\r\n",
      "(9,64): error CS0122: 'Person.income' is inaccessible due to its protection level"
     ]
    }
   ],
   "source": [
    "// พื้นที่เขียน code และทดสอบ\n",
    "Person p = new Person();\n",
    "   p.name = \"Rambo\";\n",
    "   p.id = \"1987\";\n",
    "   p.income = 2500;\n",
    "   System.Console.WriteLine($\"Type of p is {p.GetType()}\");\n",
    "   System.Console.WriteLine($\"p.name = {p.name}\\ttype = {p.name.GetType()}\");\n",
    "   System.Console.WriteLine($\"p.id = {p.id}\\ttype = {p.id.GetType()}\");\n",
    "   System.Console.WriteLine($\"p.income = {p.income}\\ttype = {p.income.GetType()}\");\n",
    "   \n",
    "  class Person\n",
    "  {\n",
    "      public string? name;\n",
    "      public string? id;\n",
    "      private int income;\n",
    "  }"
   ]
  },
  {
   "cell_type": "markdown",
   "metadata": {},
   "source": [
    "*คำตอบ* Error: (5,6): error CS0122: 'Person.income' is inaccessible due to its protection level\n",
    "(9,45): error CS0122: 'Person.income' is inaccessible due to its protection level\n",
    "(9,64): error CS0122: 'Person.income' is inaccessible due to its protection level"
   ]
  },
  {
   "cell_type": "markdown",
   "metadata": {},
   "source": [
    "4. ถ้าแก้ไขโค้ดในบรรทัดที่ 13 เป็นดังต่อไปนี้  จะได้ผลการ build หรือ run เป็นอย่างไร \n",
    "```csharp\n",
    "    protected string? name;\n",
    "```"
   ]
  },
  {
   "cell_type": "code",
   "execution_count": null,
   "metadata": {
    "dotnet_interactive": {
     "language": "csharp"
    },
    "polyglot_notebook": {
     "kernelName": "csharp"
    }
   },
   "outputs": [
    {
     "ename": "Error",
     "evalue": "(3,6): error CS0122: 'Person.name' is inaccessible due to its protection level\r\n(7,43): error CS0122: 'Person.name' is inaccessible due to its protection level\r\n(7,60): error CS0122: 'Person.name' is inaccessible due to its protection level",
     "output_type": "error",
     "traceback": [
      "(3,6): error CS0122: 'Person.name' is inaccessible due to its protection level\r\n",
      "(7,43): error CS0122: 'Person.name' is inaccessible due to its protection level\r\n",
      "(7,60): error CS0122: 'Person.name' is inaccessible due to its protection level"
     ]
    }
   ],
   "source": [
    "// พื้นที่เขียน code และทดสอบ\n",
    "Person p = new Person();\n",
    "   p.name = \"Rambo\";\n",
    "   p.id = \"1987\";\n",
    "   p.income = 2500;\n",
    "   System.Console.WriteLine($\"Type of p is {p.GetType()}\");\n",
    "   System.Console.WriteLine($\"p.name = {p.name}\\ttype = {p.name.GetType()}\");\n",
    "   System.Console.WriteLine($\"p.id = {p.id}\\ttype = {p.id.GetType()}\");\n",
    "   System.Console.WriteLine($\"p.income = {p.income}\\ttype = {p.income.GetType()}\");\n",
    "   \n",
    "  class Person\n",
    "  {\n",
    "      protected string? name;\n",
    "      public string? id;\n",
    "      public int income;\n",
    "  }"
   ]
  },
  {
   "cell_type": "markdown",
   "metadata": {},
   "source": [
    "*คำตอบ* Error: (3,6): error CS0122: 'Person.name' is inaccessible due to its protection level\n",
    "(7,43): error CS0122: 'Person.name' is inaccessible due to its protection level\n",
    "(7,60): error CS0122: 'Person.name' is inaccessible due to its protection leve"
   ]
  },
  {
   "cell_type": "markdown",
   "metadata": {},
   "source": [
    "3. เครื่องหมาย `?` ในบรรทัดที่ 13 `protected string? name;` มีความหมายว่าอย่างไร  "
   ]
  },
  {
   "cell_type": "markdown",
   "metadata": {},
   "source": [
    "*คำตอบ* เครื่องหมาย ? บอกว่า name และ id สามารถเก็บค่าเป็น null ได้ ซึ่งช่วยให้โค้ดสามารถรองรับการทำงานกับค่า null ได้อย่างปลอดภัย"
   ]
  }
 ],
 "metadata": {
  "kernelspec": {
   "display_name": ".NET (C#)",
   "language": "C#",
   "name": ".net-csharp"
  },
  "polyglot_notebook": {
   "kernelInfo": {
    "defaultKernelName": "csharp",
    "items": [
     {
      "aliases": [],
      "languageName": "csharp",
      "name": "csharp"
     }
    ]
   }
  }
 },
 "nbformat": 4,
 "nbformat_minor": 2
}
