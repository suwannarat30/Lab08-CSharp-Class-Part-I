{
 "cells": [
  {
   "cell_type": "markdown",
   "metadata": {
    "dotnet_interactive": {
     "language": "csharp"
    },
    "polyglot_notebook": {
     "kernelName": "csharp"
    }
   },
   "source": [
    "# Lab 8 Exercise 5\n",
    "\n",
    "## simple Method"
   ]
  },
  {
   "cell_type": "markdown",
   "metadata": {},
   "source": [
    "1. สร้าง console application project\n",
    "\n",
    "```\n",
    "    dotnet new console --name Lab08_Ex05\n",
    "```\n"
   ]
  },
  {
   "cell_type": "markdown",
   "metadata": {},
   "source": [
    "2. เปลี่ยน code ให้เป็นดังต่อไปนี้\n",
    "\n",
    ">  ```csharp \n",
    ">  1. var myObj = new MyClass();\n",
    ">  2. myObj.Info();\n",
    ">  3. \n",
    ">  4. class MyClass\n",
    ">  5. {\n",
    ">  6.     int F1;\n",
    ">  7.     string F2;\n",
    ">  8.     int F3 = 100;\n",
    ">  9.     string F4 = \"ASDF\";\n",
    "> 10. \n",
    "> 11.     public void Info()\n",
    "> 12.     {\n",
    "> 13.         System.Console.WriteLine($\"Default integer      F1 = {F1}\");  //Implicit fields initialization\n",
    "> 14.         System.Console.WriteLine($\"Default string       F2 = {F2}\");\n",
    "> 15. \n",
    "> 16.         System.Console.WriteLine($\"Initialized integer  F3 = {F3}\");  //Explicit field initialization\n",
    "> 17.         System.Console.WriteLine($\"Initialized string   F4 = {F4}\");\n",
    "> 18.     } \n",
    "> 19. }\n",
    "> ```\n",
    "\n"
   ]
  },
  {
   "cell_type": "markdown",
   "metadata": {},
   "source": [
    "3. Build project โดยการใช้คำสั่ง\n",
    "\n",
    "```\n",
    "    dotnet build  Lab08_Ex05\n",
    "```"
   ]
  },
  {
   "cell_type": "markdown",
   "metadata": {},
   "source": [
    "4. บันทึกผลที่ได้จากการรันคำสั่งในข้อ 3\n",
    "\n"
   ]
  },
  {
   "cell_type": "markdown",
   "metadata": {},
   "source": [
    "*คำตอบ* Restore complete (0.2s)\n",
    "  Lab08_Ex05 succeeded with 3 warning(s) (0.4s) → Lab08_Ex05\\bin\\Debug\\net9.0\\Lab08_Ex05.dll\n",
    "    C:\\OOP\\Lab08-CSharp-Class-Part-I\\Lab08-CSharp-Class-Part-I-1\\Lab08_Ex05\\Program.cs(7,15): warning CS8618: Non-nullable field 'F2' must contain a non-null value when exiting constructor. Consider adding the 'required' modifier or declaring the field as nullable.\n",
    "    C:\\OOP\\Lab08-CSharp-Class-Part-I\\Lab08-CSharp-Class-Part-I-1\\Lab08_Ex05\\Program.cs(6,12): warning CS0649: Field 'MyClass.F1' is never assigned to, and will always have its default value 0\n",
    "    C:\\OOP\\Lab08-CSharp-Class-Part-I\\Lab08-CSharp-Class-Part-I-1\\Lab08_Ex05\\Program.cs(7,15): warning CS0649: Field 'MyClass.F2' is never assigned to, and will always have its default value null\n",
    "\n",
    "Build succeeded with 3 warning(s) in 0.8s"
   ]
  },
  {
   "cell_type": "markdown",
   "metadata": {},
   "source": [
    "5. Run project โดยการใช้คำสั่ง\n",
    "\n",
    "```\n",
    "    dotnet run --project Lab08_Ex05\n",
    "```"
   ]
  },
  {
   "cell_type": "markdown",
   "metadata": {},
   "source": [
    "\n",
    "6. บันทึกผลที่ได้จากการรันคำสั่งในข้อ 5\n",
    "\n"
   ]
  },
  {
   "cell_type": "markdown",
   "metadata": {},
   "source": [
    "*คำตอบ* Restore complete (0.2s)\n",
    "  Lab08_Ex05 succeeded with 3 warning(s) (0.4s) → Lab08_Ex05\\bin\\Debug\\net9.0\\Lab08_Ex05.dll\n",
    "    C:\\OOP\\Lab08-CSharp-Class-Part-I\\Lab08-CSharp-Class-Part-I-1\\Lab08_Ex05\\Program.cs(7,15): warning CS8618: Non-nullable field 'F2' must contain a non-null value when exiting constructor. Consider adding the 'required' modifier or declaring the field as nullable.\n",
    "    C:\\OOP\\Lab08-CSharp-Class-Part-I\\Lab08-CSharp-Class-Part-I-1\\Lab08_Ex05\\Program.cs(6,12): warning CS0649: Field 'MyClass.F1' is never assigned to, and will always have its default value 0\n",
    "    C:\\OOP\\Lab08-CSharp-Class-Part-I\\Lab08-CSharp-Class-Part-I-1\\Lab08_Ex05\\Program.cs(7,15): warning CS0649: Field 'MyClass.F2' is never assigned to, and will always have its default value null\n",
    "\n",
    "Build succeeded with 3 warning(s) in 0.8s"
   ]
  },
  {
   "cell_type": "markdown",
   "metadata": {},
   "source": [
    "\n",
    "7. อธิบายสิ่งที่พบในการทดลอง\n",
    "\n"
   ]
  },
  {
   "cell_type": "markdown",
   "metadata": {},
   "source": [
    "*คำตอบ* เจอ Warning เกี่ยวกับการไม่ได้กำหนดค่าเริ่มต้นให้ Field\n",
    "\n",
    "F1 เป็น int แต่ไม่มีค่าเริ่มต้นค่าดีฟอลต์คือ 0\n",
    "\n",
    "F2 เป็น string (reference type) แต่ไม่มีค่าเริ่มต้นค่าดีฟอลต์คือ null"
   ]
  },
  {
   "cell_type": "markdown",
   "metadata": {},
   "source": [
    "8. นำ code ในข้อ 2 มารันบน polyglot notebook  โดยใส่ใน  code cell ด้านล่างนี้\n"
   ]
  },
  {
   "cell_type": "code",
   "execution_count": null,
   "metadata": {
    "dotnet_interactive": {
     "language": "csharp"
    },
    "polyglot_notebook": {
     "kernelName": "csharp"
    }
   },
   "outputs": [
    {
     "name": "stdout",
     "output_type": "stream",
     "text": [
      "Default integer      F1 = 0\n",
      "Default string       F2 = \n",
      "Initialized integer  F3 = 100\n",
      "Initialized string   F4 = ASDF\n"
     ]
    }
   ],
   "source": [
    "// พื้นที่เขียน code ตามข้อ 2\n",
    " var myObj = new MyClass();\n",
    "   myObj.Info();\n",
    "   \n",
    "   class MyClass\n",
    "   {\n",
    "       int F1;\n",
    "       string F2;\n",
    "       int F3 = 100;\n",
    "       string F4 = \"ASDF\";\n",
    "  \n",
    "      public void Info()\n",
    "      {\n",
    "          System.Console.WriteLine($\"Default integer      F1 = {F1}\");  //Implicit fields initialization\n",
    "          System.Console.WriteLine($\"Default string       F2 = {F2}\");\n",
    "  \n",
    "          System.Console.WriteLine($\"Initialized integer  F3 = {F3}\");  //Explicit field initialization\n",
    "          System.Console.WriteLine($\"Initialized string   F4 = {F4}\");\n",
    "      } \n",
    "  }"
   ]
  },
  {
   "cell_type": "markdown",
   "metadata": {},
   "source": [
    "8.1 ผลการรันเป็นอย่างไร\n",
    "\n"
   ]
  },
  {
   "cell_type": "markdown",
   "metadata": {},
   "source": [
    "*คำตอบ* Default integer      F1 = 0\n",
    "Default string       F2 = \n",
    "Initialized integer  F3 = 100\n",
    "Initialized string   F4 = ASDF"
   ]
  },
  {
   "cell_type": "markdown",
   "metadata": {},
   "source": [
    "8.2 เหมือนหรือต่างจาก console application อย่างไร"
   ]
  },
  {
   "cell_type": "markdown",
   "metadata": {},
   "source": [
    "*คำตอบ*"
   ]
  },
  {
   "cell_type": "markdown",
   "metadata": {},
   "source": []
  },
  {
   "cell_type": "markdown",
   "metadata": {},
   "source": [
    "## คำถาม"
   ]
  },
  {
   "cell_type": "markdown",
   "metadata": {},
   "source": [
    "1. ถ้าแก้ไขโค้ดในบรรทัดที่ 11 เป็นดังต่อไปนี้  จะได้ผลการ build หรือ run เป็นอย่างไร ให้แสดง output ที่โปรแกรมแสดงออกมา\n",
    "```csharp\n",
    "    void Info()\n",
    "```\n"
   ]
  },
  {
   "cell_type": "code",
   "execution_count": null,
   "metadata": {
    "dotnet_interactive": {
     "language": "csharp"
    },
    "polyglot_notebook": {
     "kernelName": "csharp"
    }
   },
   "outputs": [
    {
     "ename": "Error",
     "evalue": "(3,10): error CS0122: 'MyClass.Info()' is inaccessible due to its protection level",
     "output_type": "error",
     "traceback": [
      "(3,10): error CS0122: 'MyClass.Info()' is inaccessible due to its protection level"
     ]
    }
   ],
   "source": [
    "// พื้นที่เขียน code และทดสอบ\n",
    "var myObj = new MyClass();\n",
    "   myObj.Info();\n",
    "   \n",
    "   class MyClass\n",
    "   {\n",
    "       int F1;\n",
    "       string F2;\n",
    "       int F3 = 100;\n",
    "       string F4 = \"ASDF\";\n",
    "  \n",
    "       void Info()\n",
    "      {\n",
    "          System.Console.WriteLine($\"Default integer      F1 = {F1}\");  //Implicit fields initialization\n",
    "          System.Console.WriteLine($\"Default string       F2 = {F2}\");\n",
    "  \n",
    "          System.Console.WriteLine($\"Initialized integer  F3 = {F3}\");  //Explicit field initialization\n",
    "          System.Console.WriteLine($\"Initialized string   F4 = {F4}\");\n",
    "      } \n",
    "  }"
   ]
  },
  {
   "cell_type": "markdown",
   "metadata": {},
   "source": [
    "*คำตอบ* Error: (3,10): error CS0122: 'MyClass.Info()' is inaccessible due to its protection level"
   ]
  },
  {
   "cell_type": "markdown",
   "metadata": {},
   "source": [
    "2. ถ้าแก้ไขโค้ดในบรรทัดที่ 14 เป็นดังต่อไปนี้  จะได้ผลการ build หรือ run เป็นอย่างไร ให้แสดง output ที่โปรแกรมแสดงออกมา\n",
    "```csharp\n",
    "    private void Info()\n",
    "```"
   ]
  },
  {
   "cell_type": "code",
   "execution_count": null,
   "metadata": {
    "dotnet_interactive": {
     "language": "csharp"
    },
    "polyglot_notebook": {
     "kernelName": "csharp"
    }
   },
   "outputs": [
    {
     "ename": "Error",
     "evalue": "(3,10): error CS0122: 'MyClass.Info()' is inaccessible due to its protection level",
     "output_type": "error",
     "traceback": [
      "(3,10): error CS0122: 'MyClass.Info()' is inaccessible due to its protection level"
     ]
    }
   ],
   "source": [
    "// พื้นที่เขียน code และทดสอบ\n",
    "var myObj = new MyClass();\n",
    "   myObj.Info();\n",
    "   \n",
    "   class MyClass\n",
    "   {\n",
    "       int F1;\n",
    "       string F2;\n",
    "       int F3 = 100;\n",
    "       string F4 = \"ASDF\";\n",
    "  \n",
    "      private void Info()\n",
    "      {\n",
    "          System.Console.WriteLine($\"Default integer      F1 = {F1}\");  //Implicit fields initialization\n",
    "          System.Console.WriteLine($\"Default string       F2 = {F2}\");\n",
    "  \n",
    "          System.Console.WriteLine($\"Initialized integer  F3 = {F3}\");  //Explicit field initialization\n",
    "          System.Console.WriteLine($\"Initialized string   F4 = {F4}\");\n",
    "      } \n",
    "  }"
   ]
  },
  {
   "cell_type": "markdown",
   "metadata": {},
   "source": [
    "*คำตอบ* Error: (3,10): error CS0122: 'MyClass.Info()' is inaccessible due to its protection level"
   ]
  }
 ],
 "metadata": {
  "kernelspec": {
   "display_name": ".NET (C#)",
   "language": "C#",
   "name": ".net-csharp"
  },
  "polyglot_notebook": {
   "kernelInfo": {
    "defaultKernelName": "csharp",
    "items": [
     {
      "aliases": [],
      "languageName": "csharp",
      "name": "csharp"
     }
    ]
   }
  }
 },
 "nbformat": 4,
 "nbformat_minor": 2
}
